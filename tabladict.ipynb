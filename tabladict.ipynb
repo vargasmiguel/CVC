{
 "cells": [
  {
   "cell_type": "code",
   "execution_count": 35,
   "metadata": {},
   "outputs": [
    {
     "data": {
      "text/plain": [
       "{'SEMILLA DE MAÍZ AMARILLO': {'cantidad': ['Cantidad de semilla entregada en kilos'],\n",
       "  'observación': [{'texto': 'Cuántos kilos sembró', 'tipo': 'numeric'},\n",
       "   {'texto': 'Cuántas  cosechas lleva', 'tipo': 'numeric'},\n",
       "   {'texto': 'Cuántos kilos ha cosechado', 'tipo': 'numeric'},\n",
       "   {'texto': 'Cómo fue el desarrollo', 'tipo': 'text'}]},\n",
       " 'SEMILLA DE FRÍJOL': {'cantidad': ['Cantidad de semilla entregada en kilos'],\n",
       "  'observación': [{'texto': 'Cuántos kilos sembró', 'tipo': 'numeric'},\n",
       "   {'texto': 'Cuántas  cosechas lleva', 'tipo': 'numeric'},\n",
       "   {'texto': 'Cuántos kilos ha cosechado', 'tipo': 'numeric'}]},\n",
       " 'ESTACAS PARA BANCO DE FORRAJE': {'cantidad': ['Cantidad de estacas de Botón de oro',\n",
       "   'Cuántas estacas de Nacedero',\n",
       "   'Cuántas estacas de Matarratón'],\n",
       "  'observación': [{'texto': 'Cuántas  estacas sembradas se desarrollo',\n",
       "    'tipo': 'numeric'},\n",
       "   {'texto': 'Cuántas estacas se prendieron', 'tipo': 'numeric'},\n",
       "   {'texto': 'Cuál es el estado actual del banco de forraje', 'tipo': 'text'},\n",
       "   {'texto': 'Continúa su propagación',\n",
       "    'tipo': 'options',\n",
       "    'opciones': ['---', 'Si', 'No']}]},\n",
       " 'ARBOLES FRUTALES': {'cantidad': ['Cantidad de tipo Injerto',\n",
       "   'Cantidad de tipo Nativos'],\n",
       "  'observación': [{'texto': 'Cuántos arboles sembrado se desarrollaron',\n",
       "    'tipo': 'numeric'},\n",
       "   {'texto': 'En qué estado están',\n",
       "    'tipo': 'options',\n",
       "    'opciones': ['---', 'Bueno', 'Regular', 'Malo']},\n",
       "   {'texto': 'Número de árboles vivos', 'tipo': 'numeric'}]},\n",
       " 'COLINO DE PLÁTANO': {'cantidad': ['Cantidad sembrada de Plátano'],\n",
       "  'observación': [{'texto': 'Cuántos racimos de plátano ha cosechado',\n",
       "    'tipo': 'numeric'},\n",
       "   {'texto': 'Cuántos colinos de plátano plantaron', 'tipo': 'numeric'},\n",
       "   {'texto': 'Cuántos colinos de plátano murieron', 'tipo': 'numeric'}]},\n",
       " 'COLINO DE BANANO': {'cantidad': ['Cantidad sembrada de Banano'],\n",
       "  'observación': [{'texto': 'Cuántos racimos de banano ha cosechado',\n",
       "    'tipo': 'numeric'},\n",
       "   {'texto': 'Cuántos colinos de banano plantaron', 'tipo': 'numeric'},\n",
       "   {'texto': 'Cuántos colinos de banano murieron', 'tipo': 'numeric'}]},\n",
       " 'COLINO DE GUAYABO': {'cantidad': ['Cantidad sembrada de Guayabo'],\n",
       "  'observación': [{'texto': 'Cuántos racimos de guayabo ha cosechado',\n",
       "    'tipo': 'numeric'},\n",
       "   {'texto': 'Cuántos colinos de guayabo plantaron', 'tipo': 'numeric'},\n",
       "   {'texto': 'Cuántos colinos de guayabo murieron', 'tipo': 'numeric'}]},\n",
       " 'SOBRE DE SEMILLAS DE HORTALIZAS': {'observación': [{'texto': 'Cantidad de sobres entregados',\n",
       "    'tipo': 'numeric'}]},\n",
       " 'BANDEJA DE GERMINACIÓN': {'cantidad': ['Bandejas de germinación entregadas']},\n",
       " 'FUMIGADORA MANUAL': {'observación': [{'texto': 'Cómo ha sido el funcionamiento',\n",
       "    'tipo': 'options',\n",
       "    'opciones': ['---', 'Bueno', 'Regular', 'Malo']}]},\n",
       " 'PASTO VETIVER': {'cantidad': ['Cantidad entregada de pasto vetiver']}}"
      ]
     },
     "execution_count": 35,
     "metadata": {},
     "output_type": "execute_result"
    }
   ],
   "source": [
    "import pandas as pd\n",
    "import numpy as np\n",
    "\n",
    "# Reemplaza 'nombre_del_archivo.xlsx' con el nombre de tu archivo Excel\n",
    "archivo_excel = 'tabla.xlsx'\n",
    "\n",
    "# Cargar el archivo Excel en un DataFrame\n",
    "df = pd.read_excel(archivo_excel)\n",
    "\n",
    "# Llenar las celdas combinadas en la columna \"Descripción\"\n",
    "df['descripción'].fillna(method='ffill', inplace=True)\n",
    "\n",
    "# Crear un diccionario para almacenar los datos transformados\n",
    "data_dict = {}\n",
    "\n",
    "for index, row in df.iterrows():\n",
    "    descripcion = row['descripción']\n",
    "    cantidad = row['cantidad']\n",
    "    observacion_texto = row['observación']\n",
    "    observacion_tipo = row['tipo']\n",
    "    observacion_opciones = [\"---\",row['op1'], row['op2'], row['op3']]\n",
    "    observacion_opciones = [x for x in observacion_opciones if str(x) != 'nan']\n",
    "\n",
    "\n",
    "    if descripcion not in data_dict:\n",
    "        if observacion_tipo == \"options\":\n",
    "            if str(cantidad) == \"nan\":\n",
    "                data_dict[descripcion] = {'observación': [{'texto': observacion_texto, 'tipo': observacion_tipo, 'opciones': observacion_opciones}]}\n",
    "            else: \n",
    "                data_dict[descripcion] = {'cantidad': [cantidad], 'observación': [{'texto': observacion_texto, 'tipo': observacion_tipo, 'opciones': observacion_opciones}]}\n",
    "        else:\n",
    "            if str(observacion_texto) == \"nan\":\n",
    "                data_dict[descripcion] = {'cantidad': [cantidad]}\n",
    "            else:\n",
    "                if str(cantidad) == \"nan\":\n",
    "                    data_dict[descripcion] = {'observación': [{'texto': observacion_texto, 'tipo': observacion_tipo}]}\n",
    "                else: \n",
    "                    data_dict[descripcion] = {'cantidad': [cantidad], 'observación': [{'texto': observacion_texto, 'tipo': observacion_tipo}]}\n",
    "    else:\n",
    "        if str(cantidad) != \"nan\":\n",
    "            data_dict[descripcion]['cantidad'].append(cantidad)\n",
    "        if observacion_tipo == \"options\":\n",
    "            data_dict[descripcion]['observación'].append({'texto': observacion_texto, 'tipo': observacion_tipo, 'opciones': observacion_opciones})\n",
    "        else:\n",
    "            if str(observacion_texto) == \"nan\":\n",
    "                None\n",
    "            else:\n",
    "                data_dict[descripcion]['observación'].append({'texto': observacion_texto, 'tipo': observacion_tipo})\n",
    "\n",
    "# Mostrar el diccionario resultante\n",
    "data_dict\n"
   ]
  },
  {
   "cell_type": "code",
   "execution_count": 109,
   "metadata": {},
   "outputs": [
    {
     "data": {
      "text/plain": [
       "True"
      ]
     },
     "execution_count": 109,
     "metadata": {},
     "output_type": "execute_result"
    }
   ],
   "source": [
    "str(data_dict['PASTO VETIVER']['observación'][0]['texto']) == 'nan'"
   ]
  },
  {
   "cell_type": "code",
   "execution_count": 19,
   "metadata": {},
   "outputs": [],
   "source": [
    "import pandas as pd"
   ]
  },
  {
   "cell_type": "code",
   "execution_count": 20,
   "metadata": {},
   "outputs": [],
   "source": [
    "df=pd.read_json(\"jsonresp.json\")"
   ]
  },
  {
   "cell_type": "code",
   "execution_count": 21,
   "metadata": {},
   "outputs": [
    {
     "data": {
      "text/html": [
       "<div>\n",
       "<style scoped>\n",
       "    .dataframe tbody tr th:only-of-type {\n",
       "        vertical-align: middle;\n",
       "    }\n",
       "\n",
       "    .dataframe tbody tr th {\n",
       "        vertical-align: top;\n",
       "    }\n",
       "\n",
       "    .dataframe thead th {\n",
       "        text-align: right;\n",
       "    }\n",
       "</style>\n",
       "<table border=\"1\" class=\"dataframe\">\n",
       "  <thead>\n",
       "    <tr style=\"text-align: right;\">\n",
       "      <th></th>\n",
       "      <th>encuestador</th>\n",
       "      <th>Fecha</th>\n",
       "      <th>Municipio</th>\n",
       "      <th>Cuenca</th>\n",
       "      <th>Vereda</th>\n",
       "      <th>DAR</th>\n",
       "      <th>Finca</th>\n",
       "      <th>Beneficiario</th>\n",
       "      <th>Vigencia</th>\n",
       "      <th>Recibe la visita</th>\n",
       "      <th>...</th>\n",
       "      <th>COLINO DE BANANO-O-Cuántos colinos de banano plantaron</th>\n",
       "      <th>COLINO DE BANANO-O-Cuántos colinos de banano murieron</th>\n",
       "      <th>COLINO DE GUAYABO-C-Cantidad sembrada de Guayabo</th>\n",
       "      <th>COLINO DE GUAYABO-O-Cuántos racimos de guayabo ha cosechado</th>\n",
       "      <th>COLINO DE GUAYABO-O-Cuántos colinos de guayabo plantaron</th>\n",
       "      <th>COLINO DE GUAYABO-O-Cuántos colinos de guayabo murieron</th>\n",
       "      <th>SOBRE DE SEMILLAS DE HORTALIZAS-O-Cantidad de sobres entregados</th>\n",
       "      <th>BANDEJA DE GERMINACIÓN-C-Bandejas de germinación entregadas</th>\n",
       "      <th>FUMIGADORA MANUAL-O-Cómo ha sido el funcionamiento</th>\n",
       "      <th>PASTO VETIVER-C-Cantidad entregada de pasto vetiver</th>\n",
       "    </tr>\n",
       "  </thead>\n",
       "  <tbody>\n",
       "    <tr>\n",
       "      <th>0</th>\n",
       "      <td>encuestador1@cvc</td>\n",
       "      <td>2023-11-02 00:00:00</td>\n",
       "      <td>-</td>\n",
       "      <td>-</td>\n",
       "      <td>-</td>\n",
       "      <td>-</td>\n",
       "      <td>---</td>\n",
       "      <td>---</td>\n",
       "      <td>2020</td>\n",
       "      <td></td>\n",
       "      <td>...</td>\n",
       "      <td>1.1</td>\n",
       "      <td>1.1</td>\n",
       "      <td>1.1</td>\n",
       "      <td>1.1</td>\n",
       "      <td>1.1</td>\n",
       "      <td>1.1</td>\n",
       "      <td>1.1</td>\n",
       "      <td>1.1</td>\n",
       "      <td>---</td>\n",
       "      <td>1.1</td>\n",
       "    </tr>\n",
       "  </tbody>\n",
       "</table>\n",
       "<p>1 rows × 48 columns</p>\n",
       "</div>"
      ],
      "text/plain": [
       "        encuestador                Fecha Municipio Cuenca Vereda DAR Finca   \n",
       "0  encuestador1@cvc  2023-11-02 00:00:00         -      -      -   -   ---  \\\n",
       "\n",
       "  Beneficiario  Vigencia Recibe la visita  ...   \n",
       "0          ---      2020                   ...  \\\n",
       "\n",
       "  COLINO DE BANANO-O-Cuántos colinos de banano plantaron   \n",
       "0                                                1.1      \\\n",
       "\n",
       "   COLINO DE BANANO-O-Cuántos colinos de banano murieron   \n",
       "0                                                1.1      \\\n",
       "\n",
       "   COLINO DE GUAYABO-C-Cantidad sembrada de Guayabo   \n",
       "0                                               1.1  \\\n",
       "\n",
       "   COLINO DE GUAYABO-O-Cuántos racimos de guayabo ha cosechado   \n",
       "0                                                1.1            \\\n",
       "\n",
       "   COLINO DE GUAYABO-O-Cuántos colinos de guayabo plantaron   \n",
       "0                                                1.1         \\\n",
       "\n",
       "  COLINO DE GUAYABO-O-Cuántos colinos de guayabo murieron   \n",
       "0                                                1.1       \\\n",
       "\n",
       "   SOBRE DE SEMILLAS DE HORTALIZAS-O-Cantidad de sobres entregados   \n",
       "0                                                1.1                \\\n",
       "\n",
       "   BANDEJA DE GERMINACIÓN-C-Bandejas de germinación entregadas   \n",
       "0                                                1.1            \\\n",
       "\n",
       "   FUMIGADORA MANUAL-O-Cómo ha sido el funcionamiento   \n",
       "0                                                ---   \\\n",
       "\n",
       "   PASTO VETIVER-C-Cantidad entregada de pasto vetiver  \n",
       "0                                                1.1    \n",
       "\n",
       "[1 rows x 48 columns]"
      ]
     },
     "execution_count": 21,
     "metadata": {},
     "output_type": "execute_result"
    }
   ],
   "source": [
    "df"
   ]
  },
  {
   "cell_type": "code",
   "execution_count": 22,
   "metadata": {},
   "outputs": [],
   "source": [
    "df.to_csv(\"cvc.csv\", index=False)"
   ]
  },
  {
   "cell_type": "code",
   "execution_count": 24,
   "metadata": {},
   "outputs": [
    {
     "data": {
      "text/plain": [
       "'hola'"
      ]
     },
     "execution_count": 24,
     "metadata": {},
     "output_type": "execute_result"
    }
   ],
   "source": [
    "\"hola\"[:62]"
   ]
  },
  {
   "cell_type": "code",
   "execution_count": 28,
   "metadata": {},
   "outputs": [
    {
     "data": {
      "text/plain": [
       "'ESTACAS PARA BANCO DE FORRAJE-O-Cuántas estacas sembradas se d'"
      ]
     },
     "execution_count": 28,
     "metadata": {},
     "output_type": "execute_result"
    }
   ],
   "source": [
    "(\"ESTACAS PARA BANCO DE FORRAJE-O-Cuántas estacas sembradas se dieron\"[:62]).strip()"
   ]
  },
  {
   "cell_type": "code",
   "execution_count": null,
   "metadata": {},
   "outputs": [],
   "source": []
  }
 ],
 "metadata": {
  "kernelspec": {
   "display_name": "Python 3",
   "language": "python",
   "name": "python3"
  },
  "language_info": {
   "codemirror_mode": {
    "name": "ipython",
    "version": 3
   },
   "file_extension": ".py",
   "mimetype": "text/x-python",
   "name": "python",
   "nbconvert_exporter": "python",
   "pygments_lexer": "ipython3",
   "version": "3.11.3"
  }
 },
 "nbformat": 4,
 "nbformat_minor": 2
}
